{
  "cells": [
    {
      "cell_type": "markdown",
      "metadata": {
        "id": "view-in-github",
        "colab_type": "text"
      },
      "source": [
        "<a href=\"https://colab.research.google.com/github/faryal-art/deep-learning-projects/blob/main/MNIST_Digit_Recognition_PyTorch.ipynb\" target=\"_parent\"><img src=\"https://colab.research.google.com/assets/colab-badge.svg\" alt=\"Open In Colab\"/></a>"
      ]
    },
    {
      "cell_type": "markdown",
      "metadata": {
        "id": "-DHpuudgWkkX"
      },
      "source": [
        "# Handwritten digit recognication data set from MNIST\n",
        "\n",
        "  * **Deep learning project with PyTorch**\n",
        "\n",
        "1. Download/Load data set from `torchvision.datasets`\n",
        "  * Perform required operations and manuplations\n",
        "\n",
        "2. Visualize images\n",
        "3. Prepare Dataloader(Forming Batches for efficient and faster computation)\n",
        "4. Create a CNN model\n",
        "5. Perform Model Training and testing\n",
        "6. Make predictions and Evaluation\n",
        "7. Make prediction on random images(samples/data) from test data\n",
        "8. Visualize prediction performed on Rabdom images from Test_dataset"
      ]
    },
    {
      "cell_type": "markdown",
      "metadata": {
        "id": "Gql1rGTSWkMM"
      },
      "source": [
        "## 1 DataSet( Load the torchvision.datasets.MNIST() train and test datasets.)"
      ]
    },
    {
      "cell_type": "markdown",
      "source": [
        "**Import dependiencies**"
      ],
      "metadata": {
        "id": "JmrRvsik9cQC"
      }
    },
    {
      "cell_type": "code",
      "execution_count": null,
      "metadata": {
        "id": "qcFsP7hDWkEA"
      },
      "outputs": [],
      "source": [
        "#import dependiencies\n",
        "import torch\n",
        "from torch import nn\n",
        "from torch.utils.data import DataLoader\n",
        "import torchvision\n",
        "from torchvision import datasets\n",
        "from torchvision import transforms\n",
        "from torchvision.transforms import ToTensor\n",
        "import matplotlib.pyplot as plt\n",
        "\n"
      ]
    },
    {
      "cell_type": "code",
      "execution_count": null,
      "metadata": {
        "id": "-MsY2Q40WBDI"
      },
      "outputs": [],
      "source": [
        "#trainig data\n",
        "train_data=datasets.MNIST(root=\"data\",\n",
        "                          train=True,\n",
        "                          download=True,\n",
        "                          transform=torchvision.transforms.ToTensor(),\n",
        "                          target_transform=None)\n",
        "test_data=datasets.MNIST(root=\"data\",\n",
        "                         train=False,\n",
        "                         transform=ToTensor(),\n",
        "                         target_transform=None)"
      ]
    },
    {
      "cell_type": "code",
      "execution_count": null,
      "metadata": {
        "colab": {
          "base_uri": "https://localhost:8080/"
        },
        "id": "Mc5rxtq_XCGe",
        "outputId": "a8b35cd4-4d28-4941-950a-eae926a58e85"
      },
      "outputs": [
        {
          "data": {
            "text/plain": [
              "(60000, 10000)"
            ]
          },
          "execution_count": 70,
          "metadata": {},
          "output_type": "execute_result"
        }
      ],
      "source": [
        "len(train_data),len(test_data)"
      ]
    },
    {
      "cell_type": "code",
      "execution_count": null,
      "metadata": {
        "colab": {
          "base_uri": "https://localhost:8080/"
        },
        "id": "hbSNyMfeXIsv",
        "outputId": "e50eae76-db76-4663-eb70-2d16aa68409f"
      },
      "outputs": [
        {
          "data": {
            "text/plain": [
              "(torch.Size([1, 28, 28]), 5)"
            ]
          },
          "execution_count": 71,
          "metadata": {},
          "output_type": "execute_result"
        }
      ],
      "source": [
        "img,label=train_data[0]\n",
        "img.shape,label"
      ]
    },
    {
      "cell_type": "code",
      "execution_count": null,
      "metadata": {
        "colab": {
          "base_uri": "https://localhost:8080/"
        },
        "id": "1VJF_RGGYIBe",
        "outputId": "1c9644e2-fbbc-4506-d706-5f470e247e98"
      },
      "outputs": [
        {
          "data": {
            "text/plain": [
              "['0 - zero',\n",
              " '1 - one',\n",
              " '2 - two',\n",
              " '3 - three',\n",
              " '4 - four',\n",
              " '5 - five',\n",
              " '6 - six',\n",
              " '7 - seven',\n",
              " '8 - eight',\n",
              " '9 - nine']"
            ]
          },
          "execution_count": 72,
          "metadata": {},
          "output_type": "execute_result"
        }
      ],
      "source": [
        "# see label names\n",
        "class_names=train_data.classes\n",
        "class_names"
      ]
    },
    {
      "cell_type": "code",
      "execution_count": null,
      "metadata": {
        "colab": {
          "base_uri": "https://localhost:8080/"
        },
        "id": "HxLPxSjvYMyI",
        "outputId": "2b509c5b-7a65-48d5-88fd-e5e1606046c7"
      },
      "outputs": [
        {
          "data": {
            "text/plain": [
              "{'0 - zero': 0,\n",
              " '1 - one': 1,\n",
              " '2 - two': 2,\n",
              " '3 - three': 3,\n",
              " '4 - four': 4,\n",
              " '5 - five': 5,\n",
              " '6 - six': 6,\n",
              " '7 - seven': 7,\n",
              " '8 - eight': 8,\n",
              " '9 - nine': 9}"
            ]
          },
          "execution_count": 73,
          "metadata": {},
          "output_type": "execute_result"
        }
      ],
      "source": [
        "class_to_idx=train_data.class_to_idx\n",
        "class_to_idx"
      ]
    },
    {
      "cell_type": "code",
      "execution_count": null,
      "metadata": {
        "id": "4VlX1CJJYb_c"
      },
      "outputs": [],
      "source": []
    },
    {
      "cell_type": "markdown",
      "metadata": {
        "id": "F7wSlqZXY3aN"
      },
      "source": [
        "## 1.1 Check input and output shapes of data"
      ]
    },
    {
      "cell_type": "code",
      "execution_count": null,
      "metadata": {
        "colab": {
          "base_uri": "https://localhost:8080/"
        },
        "id": "eADqyNoOYb75",
        "outputId": "0c491e74-732f-4040-b773-6c9a35dfaab0"
      },
      "outputs": [
        {
          "name": "stdout",
          "output_type": "stream",
          "text": [
            "image shape :torch.Size([1, 28, 28]) ->[color_channel,height,width]\n",
            "NO of labels for images : 5\n"
          ]
        }
      ],
      "source": [
        "print(f\"image shape :{img.shape} ->[color_channel,height,width]\")\n",
        "print(f\"NO of labels for images : {label}\")"
      ]
    },
    {
      "cell_type": "markdown",
      "metadata": {
        "id": "qBNgMtTIZYIn"
      },
      "source": [
        "## 2 Visulazing images"
      ]
    },
    {
      "cell_type": "code",
      "execution_count": null,
      "metadata": {
        "colab": {
          "base_uri": "https://localhost:8080/",
          "height": 445
        },
        "id": "BRlGZO48XJRY",
        "outputId": "28f0fb0c-3300-4c56-910b-2dc32adf6e76"
      },
      "outputs": [
        {
          "data": {
            "text/plain": [
              "(np.float64(-0.5), np.float64(27.5), np.float64(27.5), np.float64(-0.5))"
            ]
          },
          "execution_count": 75,
          "metadata": {},
          "output_type": "execute_result"
        },
        {
          "data": {
            "image/png": "[encoded data removed]",
            "text/plain": [
              "<Figure size 640x480 with 1 Axes>"
            ]
          },
          "metadata": {},
          "output_type": "display_data"
        }
      ],
      "source": [
        "#ploting firstt image from train data\n",
        "plt.imshow(img.squeeze(),cmap=\"grey\")\n",
        "plt.title(class_names[label])\n",
        "plt.axis(False)"
      ]
    },
    {
      "cell_type": "code",
      "execution_count": null,
      "metadata": {
        "id": "-SooxUlHX8dZ"
      },
      "outputs": [],
      "source": []
    },
    {
      "cell_type": "code",
      "execution_count": null,
      "metadata": {
        "colab": {
          "base_uri": "https://localhost:8080/",
          "height": 663
        },
        "id": "rqd6bSD5ZraD",
        "outputId": "e1d5b484-cf6e-45ec-91b8-db19ad09f334"
      },
      "outputs": [
        {
          "data": {
            "image/png": "[encoded data removed]",
            "text/plain": [
              "<Figure size 900x900 with 16 Axes>"
            ]
          },
          "metadata": {},
          "output_type": "display_data"
        }
      ],
      "source": [
        "# ploting random images in(9,9 format)\n",
        "fig=plt.figure(figsize=(9,9))\n",
        "rows=4\n",
        "cols=4\n",
        "for i in range (1,rows*cols+1):\n",
        "  # setting randon indexes to plot random images from train_data\n",
        "  random_index=torch.randint(0,len(train_data),size=[1]).item()\n",
        "  image,label=train_data[random_index]\n",
        "  fig.add_subplot(rows,cols,i)\n",
        "  plt.imshow(image.squeeze(),cmap=\"grey\")\n",
        "  plt.title(class_names[label])\n",
        "  plt.axis(False)\n",
        "\n"
      ]
    },
    {
      "cell_type": "code",
      "execution_count": null,
      "metadata": {
        "colab": {
          "base_uri": "https://localhost:8080/"
        },
        "id": "24fmAswBbHoj",
        "outputId": "42b2b760-784a-445f-abdb-49f447e552e7"
      },
      "outputs": [
        {
          "data": {
            "text/plain": [
              "Dataset MNIST\n",
              "    Number of datapoints: 60000\n",
              "    Root location: data\n",
              "    Split: Train\n",
              "    StandardTransform\n",
              "Transform: ToTensor()"
            ]
          },
          "execution_count": 77,
          "metadata": {},
          "output_type": "execute_result"
        }
      ],
      "source": [
        "# see details about train data\n",
        "train_data"
      ]
    },
    {
      "cell_type": "code",
      "execution_count": null,
      "metadata": {
        "colab": {
          "base_uri": "https://localhost:8080/"
        },
        "id": "1zpvr8zJbghR",
        "outputId": "2b0bc206-61a3-4e94-aca4-6540c730e9a9"
      },
      "outputs": [
        {
          "data": {
            "text/plain": [
              "Dataset MNIST\n",
              "    Number of datapoints: 10000\n",
              "    Root location: data\n",
              "    Split: Test\n",
              "    StandardTransform\n",
              "Transform: ToTensor()"
            ]
          },
          "execution_count": 78,
          "metadata": {},
          "output_type": "execute_result"
        }
      ],
      "source": [
        "# see details about test data\n",
        "test_data"
      ]
    },
    {
      "cell_type": "markdown",
      "metadata": {
        "id": "V50JuITub03h"
      },
      "source": [
        "## 3. Prepare dataloader\n"
      ]
    },
    {
      "cell_type": "code",
      "execution_count": null,
      "metadata": {
        "id": "RAicIUAXbgbd"
      },
      "outputs": [],
      "source": [
        "# Train data loader(in data loader we are dividingg our entire train and test data into batches for faster and efficient computation )\n",
        "BATCH_SIZE=32\n",
        "train_dataloader=DataLoader(dataset=train_data,\n",
        "                            batch_size=BATCH_SIZE,\n",
        "                            shuffle=True)\n",
        "#shuffle=True enable the model to learn/ explore the patterns instead of remembering the same order in which images are present\n",
        "\n",
        "test_dataloader=DataLoader(dataset=test_data,\n",
        "                           batch_size=BATCH_SIZE,\n",
        "                           shuffle=False)"
      ]
    },
    {
      "cell_type": "code",
      "execution_count": null,
      "metadata": {
        "colab": {
          "base_uri": "https://localhost:8080/"
        },
        "id": "XcDK2pf2dLMo",
        "outputId": "529fd1b5-2127-48c3-c984-4c68e7ca98d7"
      },
      "outputs": [
        {
          "data": {
            "text/plain": [
              "(<torch.utils.data.dataloader.DataLoader at 0x78fb305f3210>,\n",
              " <torch.utils.data.dataloader.DataLoader at 0x78fb308c30d0>)"
            ]
          },
          "execution_count": 80,
          "metadata": {},
          "output_type": "execute_result"
        }
      ],
      "source": [
        "train_dataloader,test_dataloader"
      ]
    },
    {
      "cell_type": "code",
      "execution_count": null,
      "metadata": {
        "colab": {
          "base_uri": "https://localhost:8080/"
        },
        "id": "lemOS1sidP2i",
        "outputId": "9fe8d46c-0802-4d84-af94-b2004c0f39ad"
      },
      "outputs": [
        {
          "name": "stdout",
          "output_type": "stream",
          "text": [
            "length of train_dataloader: 1875 , Batch size: 32\n",
            "lenght of test_dataloader: 313, Batch size: 32\n"
          ]
        }
      ],
      "source": [
        "# let's check some detail about dataloaders we have created\n",
        "print(f\"length of train_dataloader: {len(train_dataloader)} , Batch size: {BATCH_SIZE}\")\n",
        "print(f\"lenght of test_dataloader: {len(test_dataloader)}, Batch size: {BATCH_SIZE}\")\n"
      ]
    },
    {
      "cell_type": "code",
      "execution_count": null,
      "metadata": {
        "colab": {
          "base_uri": "https://localhost:8080/"
        },
        "id": "KRyo4tZQdfqX",
        "outputId": "31cac66b-0815-4515-a419-54be9149219e"
      },
      "outputs": [
        {
          "name": "stdout",
          "output_type": "stream",
          "text": [
            "shape of train_feature_batch: torch.Size([32, 1, 28, 28])\n",
            "shape of train_label_batch: torch.Size([32])\n"
          ]
        }
      ],
      "source": [
        "# what is inside dataloader\n",
        "train_feature_batch,train_label_batch=next(iter(train_dataloader))\n",
        "\n",
        "print(f\"shape of train_feature_batch: {train_feature_batch.shape}\")\n",
        "print(f\"shape of train_label_batch: {train_label_batch.shape}\")\n"
      ]
    },
    {
      "cell_type": "markdown",
      "metadata": {
        "id": "TbJBk0g6gaER"
      },
      "source": [
        "## 4. Model: creating a CNN model\n",
        "\n",
        "---\n",
        "\n"
      ]
    },
    {
      "cell_type": "code",
      "execution_count": null,
      "metadata": {
        "id": "n-o_mprsd4tm"
      },
      "outputs": [],
      "source": [
        "class DigitCNN(nn.Module):\n",
        "  def __init__(self):\n",
        "    super().__init__()\n",
        "    self.conv_block1=nn.Sequential(\n",
        "        nn.Conv2d(in_channels=1,\n",
        "                  out_channels=32,\n",
        "                  kernel_size=3,\n",
        "                  stride=1,\n",
        "                  padding =1\n",
        "                  ),\n",
        "        nn.ReLU(),\n",
        "        nn.Conv2d(in_channels=32,\n",
        "                  out_channels=32,\n",
        "                  kernel_size=3,\n",
        "                  stride=1,\n",
        "                  padding=1),\n",
        "        nn.ReLU(),\n",
        "        nn.MaxPool2d(kernel_size=2))\n",
        "    self.conv_block2=nn.Sequential(\n",
        "        nn.Conv2d(in_channels=32,\n",
        "                  out_channels=32,\n",
        "                  kernel_size=3,\n",
        "                  stride=1,\n",
        "                  padding=1),\n",
        "        nn.ReLU(),\n",
        "        nn.Conv2d(in_channels=32,\n",
        "                  out_channels=32,\n",
        "                  kernel_size=3,\n",
        "                  stride=1,\n",
        "                  padding=1),\n",
        "        nn.ReLU(),\n",
        "        nn.MaxPool2d(2))\n",
        "    self.classifier=nn.Sequential(\n",
        "        nn.Flatten(),\n",
        "        nn.Linear(in_features=32*7*7,\n",
        "                  out_features=10)\n",
        "\n",
        "\n",
        "    )\n",
        "  #over write forward function\n",
        "  def forward(self,x):\n",
        "    x=self.conv_block1(x)\n",
        "    #print(f\"output shape of conv block 1 : {x.shape}\")\n",
        "    x=self.conv_block2(x)\n",
        "    #print(f\" output shape of conv block 1:  { x.shape}\" )\n",
        "    x=self.classifier(x)\n",
        "    #print(f\"ooutput shape of classifier : {x.shape}\")\n",
        "    return x\n",
        "\n",
        "\n"
      ]
    },
    {
      "cell_type": "code",
      "execution_count": null,
      "metadata": {
        "colab": {
          "base_uri": "https://localhost:8080/"
        },
        "id": "R_Ne8T3BooOw",
        "outputId": "ee9759bb-a87c-44c1-8e6c-822e65109b0b"
      },
      "outputs": [
        {
          "data": {
            "text/plain": [
              "DigitCNN(\n",
              "  (conv_block1): Sequential(\n",
              "    (0): Conv2d(1, 32, kernel_size=(3, 3), stride=(1, 1), padding=(1, 1))\n",
              "    (1): ReLU()\n",
              "    (2): Conv2d(32, 32, kernel_size=(3, 3), stride=(1, 1), padding=(1, 1))\n",
              "    (3): ReLU()\n",
              "    (4): MaxPool2d(kernel_size=2, stride=2, padding=0, dilation=1, ceil_mode=False)\n",
              "  )\n",
              "  (conv_block2): Sequential(\n",
              "    (0): Conv2d(32, 32, kernel_size=(3, 3), stride=(1, 1), padding=(1, 1))\n",
              "    (1): ReLU()\n",
              "    (2): Conv2d(32, 32, kernel_size=(3, 3), stride=(1, 1), padding=(1, 1))\n",
              "    (3): ReLU()\n",
              "    (4): MaxPool2d(kernel_size=2, stride=2, padding=0, dilation=1, ceil_mode=False)\n",
              "  )\n",
              "  (classifier): Sequential(\n",
              "    (0): Flatten(start_dim=1, end_dim=-1)\n",
              "    (1): Linear(in_features=1568, out_features=10, bias=True)\n",
              "  )\n",
              ")"
            ]
          },
          "execution_count": 84,
          "metadata": {},
          "output_type": "execute_result"
        }
      ],
      "source": [
        "model_0=DigitCNN()\n",
        "model_0"
      ]
    },
    {
      "cell_type": "code",
      "execution_count": null,
      "metadata": {
        "colab": {
          "base_uri": "https://localhost:8080/",
          "height": 35
        },
        "id": "B_Wd7R1_oE1l",
        "outputId": "25490ce1-1233-4550-c38c-c3949835ae38"
      },
      "outputs": [
        {
          "data": {
            "application/vnd.google.colaboratory.intrinsic+json": {
              "type": "string"
            },
            "text/plain": [
              "'cpu'"
            ]
          },
          "execution_count": 85,
          "metadata": {},
          "output_type": "execute_result"
        }
      ],
      "source": [
        "# device agnostic code\n",
        "device=\"cuda\" if torch.cuda.is_available() else \"cpu\"\n",
        "device"
      ]
    },
    {
      "cell_type": "markdown",
      "metadata": {
        "id": "t7ddA75vp5-M"
      },
      "source": [
        "## 5 Training and testing model"
      ]
    },
    {
      "cell_type": "markdown",
      "metadata": {
        "id": "x0ng6gt6tQCK"
      },
      "source": [
        "### 5.1 Downloading Helper Functions Script"
      ]
    },
    {
      "cell_type": "code",
      "execution_count": null,
      "metadata": {
        "colab": {
          "base_uri": "https://localhost:8080/"
        },
        "id": "HBPLB3nsocsH",
        "outputId": "013a40fd-9459-41fe-d34d-b0f11589a9fe"
      },
      "outputs": [
        {
          "name": "stdout",
          "output_type": "stream",
          "text": [
            "helper_functios.py already exists\n"
          ]
        }
      ],
      "source": [
        "import requests\n",
        "from pathlib import Path\n",
        "\n",
        "# download helper function from learn pytorch repo\n",
        "if Path(\"helper_functions.py\").is_file():\n",
        "  print(\"helper_functios.py already exists\")\n",
        "else:\n",
        "  print(\"downloading helper_function.py file\")\n",
        "  request=requests.get(\"https://raw.githubusercontent.com/mrdbourke/pytorch-deep-learning/refs/heads/main/helper_functions.py\")\n",
        "  with open(\"helper_functions.py\",\"wb\") as f:\n",
        "    f.write(request.content)\n",
        "\n",
        "\n"
      ]
    },
    {
      "cell_type": "markdown",
      "metadata": {
        "id": "9sCZDNf_tUb6"
      },
      "source": [
        "### 5.2  Setting up loos , optimizer and accuracy function"
      ]
    },
    {
      "cell_type": "code",
      "execution_count": null,
      "metadata": {
        "id": "rOAa9yvLoN-a"
      },
      "outputs": [],
      "source": [
        "#setup loss and optimizer\n",
        "from helper_functions import accuracy_fn\n",
        "\n",
        "# setuo loss function and optmizer\n",
        "loss_fn=nn.CrossEntropyLoss()\n",
        "optimizer=torch.optim.SGD(params=model_0.parameters(),\n",
        "                          lr=0.1)"
      ]
    },
    {
      "cell_type": "markdown",
      "metadata": {
        "id": "DpawY5iAtyyn"
      },
      "source": [
        "### 5.3 Setting up Train function"
      ]
    },
    {
      "cell_type": "code",
      "execution_count": null,
      "metadata": {
        "id": "XB0Y7ds_d4qZ"
      },
      "outputs": [],
      "source": [
        "#  setting train step ()function\n",
        "def train_step(model: torch.nn.Module,\n",
        "               data_loader : torch.utils.data.DataLoader,\n",
        "               loss_fn: torch.nn.Module,\n",
        "               optimizer: torch.optim.Optimizer,\n",
        "               accuracy_fn,\n",
        "               device: torch.device=device):\n",
        "  \"\"\" Performing tarining with model trying to learn on data_loader \"\"\"\n",
        "\n",
        "\n",
        "  train_loss ,train_acc=0,0\n",
        "\n",
        "  #put model in training mode\n",
        "  model.train()\n",
        "\n",
        "  # aloop to loop through data\n",
        "  for batch, (X,y) in enumerate(data_loader):\n",
        "\n",
        "    #put data on target device\n",
        "    X,y =X.to(device),y.to(device)\n",
        "\n",
        "\n",
        "\n",
        "    # forware pas\n",
        "    train_preds=model(X)\n",
        "\n",
        "    #loss calculation\n",
        "    loss=loss_fn(train_preds,y)\n",
        "    train_loss += loss\n",
        "\n",
        "    #accuracy calculation\n",
        "    acc=accuracy_fn(y,train_preds.argmax(dim=1))\n",
        "    train_acc  += acc\n",
        "\n",
        "    #set optimizer\n",
        "    optimizer.zero_grad()\n",
        "\n",
        "    #backpropagation\n",
        "    loss.backward()\n",
        "\n",
        "    #optimizer step\n",
        "    optimizer.step()\n",
        "\n",
        "  #divide tota train loss and accuracy to the length of data loader to ge average train loss and acc per batch\n",
        "  train_loss /= len(data_loader)\n",
        "  train_acc /= len(data_loader)\n",
        "\n",
        "  # print what is happening\n",
        "  print(f\" Train_loss: {train_loss:.5f} , Train_acc:  {train_acc:.5f}%\")\n",
        "\n"
      ]
    },
    {
      "cell_type": "markdown",
      "metadata": {
        "id": "_MFhs82FuBqu"
      },
      "source": [
        "### 5.3 Set up Test function"
      ]
    },
    {
      "cell_type": "code",
      "execution_count": null,
      "metadata": {
        "id": "9li1f5xTd4oN"
      },
      "outputs": [],
      "source": [
        "# setting test step () function .\n",
        "def test_step(\n",
        "    model: torch.nn.Module,\n",
        "    data_loader: torch.utils.data.DataLoader,\n",
        "    loss_fn: torch.nn.Module,\n",
        "    accuracy_fn,\n",
        "    device: torch.device=device):\n",
        "\n",
        "  \"\"\" Performing a testing lood step on model going over data_loader\"\"\"\n",
        "  test_loss,test_acc=0,0\n",
        "  model.eval()\n",
        "\n",
        "  # turn on inference mode(inference_mode is an other wotd for predictions with in inferrence mode cotext ,anager  )\n",
        "  with torch.inference_mode():\n",
        "    for X,y in data_loader:\n",
        "\n",
        "      #set data to target device\n",
        "      X,y= X.to(device),y.to(device)\n",
        "\n",
        "      #forward pass(output raw logits)\n",
        "      test_preds=model(X)\n",
        "\n",
        "      #calculate loss and accuracy\n",
        "      test_loss += loss_fn(test_preds,y).item()\n",
        "      test_acc += accuracy_fn(y, test_preds.argmax(dim=1)) # convet logits ->prediction labels\n",
        "\n",
        "  # adjust metrics - moved outside the inference_mode block\n",
        "    test_loss =test_loss/len(data_loader)\n",
        "    test_acc = test_acc/len(data_loader)\n",
        "\n",
        "  #print  what is happened\n",
        "  print(f\"Test loss: { test_loss:.5f}, Test_accuracy: {test_acc:.5f}\")\n"
      ]
    },
    {
      "cell_type": "code",
      "execution_count": null,
      "metadata": {
        "colab": {
          "base_uri": "https://localhost:8080/"
        },
        "id": "927lTtd0poKa",
        "outputId": "68e59d4e-de66-4a9b-df25-cfa7a630bf19"
      },
      "outputs": [
        {
          "data": {
            "text/plain": [
              "DigitCNN(\n",
              "  (conv_block1): Sequential(\n",
              "    (0): Conv2d(1, 32, kernel_size=(3, 3), stride=(1, 1), padding=(1, 1))\n",
              "    (1): ReLU()\n",
              "    (2): Conv2d(32, 32, kernel_size=(3, 3), stride=(1, 1), padding=(1, 1))\n",
              "    (3): ReLU()\n",
              "    (4): MaxPool2d(kernel_size=2, stride=2, padding=0, dilation=1, ceil_mode=False)\n",
              "  )\n",
              "  (conv_block2): Sequential(\n",
              "    (0): Conv2d(32, 32, kernel_size=(3, 3), stride=(1, 1), padding=(1, 1))\n",
              "    (1): ReLU()\n",
              "    (2): Conv2d(32, 32, kernel_size=(3, 3), stride=(1, 1), padding=(1, 1))\n",
              "    (3): ReLU()\n",
              "    (4): MaxPool2d(kernel_size=2, stride=2, padding=0, dilation=1, ceil_mode=False)\n",
              "  )\n",
              "  (classifier): Sequential(\n",
              "    (0): Flatten(start_dim=1, end_dim=-1)\n",
              "    (1): Linear(in_features=1568, out_features=10, bias=True)\n",
              "  )\n",
              ")"
            ]
          },
          "execution_count": 90,
          "metadata": {},
          "output_type": "execute_result"
        }
      ],
      "source": [
        "model_0"
      ]
    },
    {
      "cell_type": "markdown",
      "metadata": {
        "id": "bYwodQ3uuNVF"
      },
      "source": [
        "## 5.4 Performing Training and Testing on Mdel"
      ]
    },
    {
      "cell_type": "code",
      "execution_count": null,
      "metadata": {
        "colab": {
          "base_uri": "https://localhost:8080/"
        },
        "id": "llxmr9tNprUz",
        "outputId": "9ed13069-20b8-46ab-bc5f-b6d0cd4c90b3"
      },
      "outputs": [
        {
          "name": "stdout",
          "output_type": "stream",
          "text": [
            "Epoch: 0\n",
            "--------\n",
            " Train_loss: 0.20709 , Train_acc:  93.33667%\n",
            "Test loss: 0.06800, Test_accuracy: 97.70367\n",
            "Epoch: 1\n",
            "--------\n",
            " Train_loss: 0.05272 , Train_acc:  98.37500%\n",
            "Test loss: 0.03987, Test_accuracy: 98.67212\n",
            "Epoch: 2\n",
            "--------\n",
            " Train_loss: 0.03898 , Train_acc:  98.78500%\n",
            "Test loss: 0.03442, Test_accuracy: 98.82188\n"
          ]
        }
      ],
      "source": [
        "# passing through train_step () and test_step()\n",
        "\n",
        "epochs=3\n",
        "for epoch in range(epochs):\n",
        "  print(f\"Epoch: {epoch}\\n--------\")\n",
        "  train_step(\n",
        "      model_0,\n",
        "      train_dataloader,\n",
        "      loss_fn,\n",
        "      optimizer,\n",
        "      accuracy_fn,\n",
        "      device)\n",
        "\n",
        "  test_step(\n",
        "      model_0,\n",
        "      test_dataloader,\n",
        "      loss_fn,\n",
        "      accuracy_fn,\n",
        "      device)\n",
        "\n",
        "\n"
      ]
    },
    {
      "cell_type": "markdown",
      "metadata": {
        "id": "j6ajMvcstHux"
      },
      "source": [
        "## 6 Making predictions and Evaluation\n"
      ]
    },
    {
      "cell_type": "code",
      "execution_count": null,
      "metadata": {
        "colab": {
          "base_uri": "https://localhost:8080/"
        },
        "id": "OeALaywstAe-",
        "outputId": "8ffee303-b409-4a82-9d9c-e5df5af9fb63"
      },
      "outputs": [
        {
          "name": "stdout",
          "output_type": "stream",
          "text": [
            "loss: 0.03442104160785675, accuarcy: 98.82188498402556\n"
          ]
        }
      ],
      "source": [
        "loss,acc=0,0\n",
        "model_0.eval()\n",
        "with torch.inference_mode():\n",
        "  for X,y in test_dataloader:\n",
        "    # put data on target device\n",
        "    X,y=X.to(device),y.to(device)\n",
        "\n",
        "    #forward pass\n",
        "    test_preds=model_0(X)\n",
        "\n",
        "    #calculate the looss and accuracy\n",
        "    loss+=loss_fn(test_preds,y)\n",
        "    acc+=accuracy_fn(y,test_preds.argmax(dim=1))\n",
        "\n",
        "  loss = loss/len(test_dataloader)\n",
        "  acc= acc/len(test_dataloader)\n",
        "  print(f\"loss: {loss}, accuarcy: {acc}\")\n",
        "\n",
        "\n"
      ]
    },
    {
      "cell_type": "markdown",
      "metadata": {
        "id": "ksU1TjvZyX4r"
      },
      "source": [
        "### 7 Make prediction  on random images from test data"
      ]
    },
    {
      "cell_type": "markdown",
      "metadata": {
        "id": "FEGmbanbylCE"
      },
      "source": [
        "### 7.1 Setting a loop to randomly select 15 images from Test data"
      ]
    },
    {
      "cell_type": "code",
      "execution_count": 134,
      "metadata": {
        "colab": {
          "base_uri": "https://localhost:8080/"
        },
        "id": "aMC5xtmuwzSL",
        "outputId": "ce1ef179-1be3-4ee3-99c3-55d095a46477"
      },
      "outputs": [
        {
          "output_type": "execute_result",
          "data": {
            "text/plain": [
              "torch.Size([1, 28, 28])"
            ]
          },
          "metadata": {},
          "execution_count": 134
        }
      ],
      "source": [
        "import random\n",
        "test_samples=[]\n",
        "test_labels=[]\n",
        "\n",
        "# loop to randomly select 15 samples from test data set for prediction in future\n",
        "for sample,label in random.sample(list(test_data),k=15):\n",
        "  test_samples.append(sample) # 15 random  sample from test data\n",
        "  test_labels.append(label)   # labels for 15 random samples\n",
        "\n",
        "# view any random sample\n",
        "test_samples[9].shape\n"
      ]
    },
    {
      "cell_type": "code",
      "execution_count": 123,
      "metadata": {
        "colab": {
          "base_uri": "https://localhost:8080/",
          "height": 469
        },
        "id": "fObIvrnRz4nl",
        "outputId": "79920116-a334-4ad2-d97f-97165a993862"
      },
      "outputs": [
        {
          "output_type": "execute_result",
          "data": {
            "text/plain": [
              "Text(0.5, 1.0, '1 - one')"
            ]
          },
          "metadata": {},
          "execution_count": 123
        },
        {
          "output_type": "display_data",
          "data": {
            "text/plain": [
              "<Figure size 640x480 with 1 Axes>"
            ],
            "image/png": "[encoded data removed]"
          },
          "metadata": {}
        }
      ],
      "source": [
        "# check if it is working well\n",
        "\n",
        "plt.imshow(test_samples[9].squeeze(),cmap=\"grey\")\n",
        "plt.title(class_names[test_labels[9]])\n"
      ]
    },
    {
      "cell_type": "markdown",
      "metadata": {
        "id": "XEwG9DDW0slv"
      },
      "source": [
        "### 7.2 Making predictions on random sample"
      ]
    },
    {
      "cell_type": "markdown",
      "source": [
        "#### Function to make predictions"
      ],
      "metadata": {
        "id": "bixsEBkV167l"
      }
    },
    {
      "cell_type": "code",
      "source": [
        "def predictions(model: torch.nn.Module,\n",
        "                data: list,\n",
        "                device: torch.device=device):\n",
        "  pred_probs_list=[]  # initilize empty list\n",
        "  model.to(device)\n",
        "  model.eval()\n",
        "  with torch.inference_mode():\n",
        "    for sample in data:\n",
        "      #prepare the sample (add batch dimension and put it on target device)\n",
        "      sample=torch.unsqueeze(sample,dim=0).to(device)\n",
        "\n",
        "      #forward pass( will output models raw logits )\n",
        "      pred_logits=model(sample)\n",
        "\n",
        "      #get predictions probabilities( from logits to -> probabilities )\n",
        "      # in case of multi class classification problem we are using softmax activation function\n",
        "      pred_probs_tensor=torch.softmax(pred_logits.squeeze() ,dim=0) # Renamed to avoid conflict\n",
        "\n",
        "      #get preds_probs off the GPU for further calculations\n",
        "      pred_probs_list.append(pred_probs_tensor.cpu()) # Append the tensor to the list\n",
        "\n",
        "      #stack the pred_probs to turn list into tensor\n",
        "    return torch.stack(pred_probs_list) # Stack the list into a tensor\n",
        "\n"
      ],
      "metadata": {
        "id": "R2Wnwt8m153n"
      },
      "execution_count": 135,
      "outputs": []
    },
    {
      "cell_type": "markdown",
      "source": [
        "### Make predictions"
      ],
      "metadata": {
        "id": "TPD6ygQs5xre"
      }
    },
    {
      "cell_type": "code",
      "execution_count": 136,
      "metadata": {
        "id": "I05CPlw70gK2",
        "colab": {
          "base_uri": "https://localhost:8080/"
        },
        "outputId": "2c548c84-a6ec-4fd4-f1be-778575f9528b"
      },
      "outputs": [
        {
          "output_type": "execute_result",
          "data": {
            "text/plain": [
              "tensor([4.3628e-12, 3.7421e-08, 4.8375e-09, 2.7633e-05, 1.1263e-10, 1.3464e-09,\n",
              "        1.6433e-16, 9.9997e-01, 9.6925e-11, 6.4786e-07])"
            ]
          },
          "metadata": {},
          "execution_count": 136
        }
      ],
      "source": [
        "# Make prediction\n",
        "pred=predictions(model_0,\n",
        "                 test_samples)\n",
        "\n",
        "#it will output probabilities\n",
        "pred[1]\n",
        "\n"
      ]
    },
    {
      "cell_type": "code",
      "execution_count": 137,
      "metadata": {
        "id": "WNju4yTW0qLu",
        "colab": {
          "base_uri": "https://localhost:8080/"
        },
        "outputId": "10417ec5-cfc4-4a75-d153-9d8bdaeaf349"
      },
      "outputs": [
        {
          "output_type": "stream",
          "name": "stdout",
          "text": [
            "Labels that our model have predicted  :\n",
            " tensor([7, 7, 7, 5, 2, 1, 0, 5, 3, 1, 5, 6, 3, 4, 8])\n"
          ]
        }
      ],
      "source": [
        "pred_labels=torch.argmax(pred,dim=1)\n",
        "print(f\"Labels that our model have predicted  :\\n { pred_labels}\")"
      ]
    },
    {
      "cell_type": "code",
      "execution_count": 138,
      "metadata": {
        "id": "72LzWhw90qHr",
        "colab": {
          "base_uri": "https://localhost:8080/"
        },
        "outputId": "c86e056f-3a2a-43a4-a823-2a8e88516f3c"
      },
      "outputs": [
        {
          "output_type": "stream",
          "name": "stdout",
          "text": [
            " Actual labels: \n",
            " [7, 7, 7, 5, 2, 1, 0, 5, 3, 1, 5, 6, 3, 4, 8] \n"
          ]
        }
      ],
      "source": [
        "print(f\" Actual labels: \\n { test_labels} \")"
      ]
    },
    {
      "cell_type": "markdown",
      "source": [
        "# Visualization"
      ],
      "metadata": {
        "id": "8VbDqMPO5_xr"
      }
    },
    {
      "cell_type": "code",
      "source": [
        "plt.figure( figsize=(9,9))\n",
        "rows=5\n",
        "cols=3\n",
        "\n",
        "for i,sample in enumerate(test_samples):\n",
        "  #create subplot\n",
        "  plt.subplot(rows,cols,i+1)\n",
        "\n",
        "  #plot target image\n",
        "  plt.imshow(sample.squeeze(),cmap=\"grey\")\n",
        "\n",
        "  #find prediction label in text\n",
        "  pred_label=class_names[pred_labels[i]]\n",
        "\n",
        "  #get truth/actual label\n",
        "  truth_label=class_names[test_labels[i]]\n",
        "\n",
        "  # create title\n",
        "  tittle=f\"Pred:{pred_label} | Truth:{truth_label}\"\n",
        "\n",
        "  # check equality\n",
        "  if pred_label==truth_label:\n",
        "    plt.title(tittle,color=\"green\")\n",
        "  else:\n",
        "    plt.title(tittle,color=\"red\")\n",
        "\n",
        "  plt.axis(False);\n",
        "\n",
        "\n",
        "\n",
        "\n",
        "\n"
      ],
      "metadata": {
        "colab": {
          "base_uri": "https://localhost:8080/",
          "height": 752
        },
        "id": "QJHEiFcx45pm",
        "outputId": "1723ee8d-81b0-4d77-915f-c47980e3f266"
      },
      "execution_count": 139,
      "outputs": [
        {
          "output_type": "display_data",
          "data": {
            "text/plain": [
              "<Figure size 900x900 with 15 Axes>"
            ],
            "image/png": "[encoded data removed]"
          },
          "metadata": {}
        }
      ]
    },
    {
      "cell_type": "code",
      "source": [],
      "metadata": {
        "id": "6dfBURZu8YUD"
      },
      "execution_count": null,
      "outputs": []
    }
  ],
  "metadata": {
    "colab": {
      "provenance": [],
      "authorship_tag": "ABX9TyNaCr3vGADoe4V4jSYBJBCV",
      "include_colab_link": true
    },
    "kernelspec": {
      "display_name": "Python 3",
      "name": "python3"
    },
    "language_info": {
      "name": "python"
    }
  },
  "nbformat": 4,
  "nbformat_minor": 0
}